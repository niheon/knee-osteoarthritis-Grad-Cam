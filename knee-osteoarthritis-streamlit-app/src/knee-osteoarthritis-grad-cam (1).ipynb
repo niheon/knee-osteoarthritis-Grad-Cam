{
 "cells": [
  {
   "cell_type": "markdown",
   "id": "43ae29b8",
   "metadata": {
    "papermill": {
     "duration": 0.006205,
     "end_time": "2023-03-23T20:31:03.730047",
     "exception": false,
     "start_time": "2023-03-23T20:31:03.723842",
     "status": "completed"
    },
    "tags": []
   },
   "source": [
    "# 2. Model Train"
   ]
  },
  {
   "cell_type": "markdown",
   "id": "2b47aad5",
   "metadata": {
    "papermill": {
     "duration": 0.004969,
     "end_time": "2023-03-23T20:31:03.740320",
     "exception": false,
     "start_time": "2023-03-23T20:31:03.735351",
     "status": "completed"
    },
    "tags": []
   },
   "source": [
    "## Model Xception"
   ]
  },
  {
   "cell_type": "markdown",
   "id": "d9b7979f",
   "metadata": {
    "papermill": {
     "duration": 0.004997,
     "end_time": "2023-03-23T20:31:03.750664",
     "exception": false,
     "start_time": "2023-03-23T20:31:03.745667",
     "status": "completed"
    },
    "tags": []
   },
   "source": [
    "### Import libraries"
   ]
  },
  {
   "cell_type": "code",
   "execution_count": 1,
   "id": "94155096",
   "metadata": {
    "execution": {
     "iopub.execute_input": "2023-03-23T20:31:03.763472Z",
     "iopub.status.busy": "2023-03-23T20:31:03.762584Z",
     "iopub.status.idle": "2023-03-23T20:31:12.277132Z",
     "shell.execute_reply": "2023-03-23T20:31:12.276025Z"
    },
    "papermill": {
     "duration": 8.523561,
     "end_time": "2023-03-23T20:31:12.279834",
     "exception": false,
     "start_time": "2023-03-23T20:31:03.756273",
     "status": "completed"
    },
    "tags": []
   },
   "outputs": [],
   "source": [
    "import os\n",
    "import timeit\n",
    "\n",
    "import matplotlib.pyplot as plt\n",
    "import numpy as np\n",
    "import seaborn as sns\n",
    "import tensorflow as tf\n",
    "from sklearn.metrics import (accuracy_score, balanced_accuracy_score,\n",
    "                             classification_report, confusion_matrix)\n",
    "from sklearn.utils.class_weight import compute_class_weight"
   ]
  },
  {
   "cell_type": "code",
   "execution_count": 2,
   "id": "4d90cc71",
   "metadata": {
    "execution": {
     "iopub.execute_input": "2023-03-23T20:31:12.292333Z",
     "iopub.status.busy": "2023-03-23T20:31:12.291746Z",
     "iopub.status.idle": "2023-03-23T20:31:12.296368Z",
     "shell.execute_reply": "2023-03-23T20:31:12.295389Z"
    },
    "papermill": {
     "duration": 0.013202,
     "end_time": "2023-03-23T20:31:12.298488",
     "exception": false,
     "start_time": "2023-03-23T20:31:12.285286",
     "status": "completed"
    },
    "tags": []
   },
   "outputs": [],
   "source": [
    "np.random.seed(12049)"
   ]
  },
  {
   "cell_type": "code",
   "execution_count": 3,
   "id": "0c4c73c4",
   "metadata": {
    "execution": {
     "iopub.execute_input": "2023-03-23T20:31:12.310058Z",
     "iopub.status.busy": "2023-03-23T20:31:12.309794Z",
     "iopub.status.idle": "2023-03-23T20:31:12.321791Z",
     "shell.execute_reply": "2023-03-23T20:31:12.320748Z"
    },
    "papermill": {
     "duration": 0.020221,
     "end_time": "2023-03-23T20:31:12.323817",
     "exception": false,
     "start_time": "2023-03-23T20:31:12.303596",
     "status": "completed"
    },
    "tags": []
   },
   "outputs": [],
   "source": [
    "def get_plot_loss_acc(model, model_name):\n",
    "    fig = plt.figure()\n",
    "    plt.subplot(2, 1, 1)\n",
    "    plt.plot(model.history.history[\"loss\"])\n",
    "    plt.plot(model.history.history[\"val_loss\"])\n",
    "    plt.title(f\"{model_name} \\n\\n model loss\")\n",
    "    plt.ylabel(\"loss\")\n",
    "    plt.xlabel(\"epoch\")\n",
    "    plt.legend([\"train\", \"valid\"], loc=\"upper right\")\n",
    "\n",
    "    plt.subplot(2, 1, 2)\n",
    "    plt.plot(model.history.history[\"accuracy\"])\n",
    "    plt.plot(model.history.history[\"val_accuracy\"])\n",
    "    plt.title(\"model accuracy\")\n",
    "    plt.ylabel(\"accuracy\")\n",
    "    plt.xlabel(\"epoch\")\n",
    "    plt.legend([\"train\", \"valid\"], loc=\"lower right\")\n",
    "\n",
    "    plt.tight_layout()\n",
    "\n",
    "\n",
    "def compute_confusion_matrix(\n",
    "    ytrue, ypred, class_names, model_name\n",
    "):\n",
    "    cm = confusion_matrix(\n",
    "        y_true=ytrue.labels,\n",
    "        y_pred=np.argmax(ypred, axis=1),\n",
    "    )\n",
    "\n",
    "    cmn = cm.astype(\"float\") / cm.sum(axis=1)[:, np.newaxis]\n",
    "    plt.subplots(figsize=(6, 5))\n",
    "    sns.heatmap(\n",
    "        cmn,\n",
    "        annot=True,\n",
    "        fmt=\".2f\",\n",
    "        cmap=\"Purples\",\n",
    "        xticklabels=class_names,\n",
    "        yticklabels=class_names,\n",
    "    )\n",
    "    plt.title(f\"Confusion Matrix - {model_name}\")\n",
    "    plt.ylabel(\"Actual\")\n",
    "    plt.xlabel(\"Predicted\")\n",
    "    plt.show(block=False)\n",
    "\n",
    "\n",
    "def get_evaluate(data, name, model):\n",
    "    score_model = model.evaluate(data, verbose=1)\n",
    "    print(f\"{name} loss: {score_model[0]:.2f}\")\n",
    "    print(f\"{name} accuracy: {score_model[1]:.2f}\")\n",
    "\n",
    "\n",
    "def get_predict(data, model):\n",
    "    predict_model = model.predict(data)\n",
    "    return predict_model\n",
    "\n",
    "\n",
    "def get_metrics(y_test, y_pred, model_name):\n",
    "    acc = accuracy_score(y_test, y_pred)\n",
    "    bal_acc = balanced_accuracy_score(y_test, y_pred)\n",
    "\n",
    "    print(f\"Accuracy Score - {model_name}: {acc:.2f}\")\n",
    "    print(f\"Balanced Accuracy Score - {model_name}: {bal_acc:.2f}\")\n",
    "    print(\"\\n\")\n",
    "\n",
    "    print(classification_report(y_test, y_pred))"
   ]
  },
  {
   "cell_type": "markdown",
   "id": "0c61bd54",
   "metadata": {
    "papermill": {
     "duration": 0.005017,
     "end_time": "2023-03-23T20:31:12.334032",
     "exception": false,
     "start_time": "2023-03-23T20:31:12.329015",
     "status": "completed"
    },
    "tags": []
   },
   "source": [
    "### Load data"
   ]
  },
  {
   "cell_type": "code",
   "execution_count": 4,
   "id": "57f2e0ee",
   "metadata": {
    "execution": {
     "iopub.execute_input": "2023-03-23T20:31:12.345917Z",
     "iopub.status.busy": "2023-03-23T20:31:12.345078Z",
     "iopub.status.idle": "2023-03-23T20:31:12.350246Z",
     "shell.execute_reply": "2023-03-23T20:31:12.349345Z"
    },
    "papermill": {
     "duration": 0.013127,
     "end_time": "2023-03-23T20:31:12.352315",
     "exception": false,
     "start_time": "2023-03-23T20:31:12.339188",
     "status": "completed"
    },
    "tags": []
   },
   "outputs": [],
   "source": [
    "base_dir = \"/kaggle/input/knee-osteoarthritis-dataset-with-severity/\"\n",
    "train_path = os.path.join(base_dir, 'train')\n",
    "valid_path = os.path.join(base_dir, 'val')\n",
    "test_path = os.path.join(base_dir, 'test')"
   ]
  },
  {
   "cell_type": "markdown",
   "id": "0a4324ee",
   "metadata": {
    "papermill": {
     "duration": 0.004963,
     "end_time": "2023-03-23T20:31:12.362414",
     "exception": false,
     "start_time": "2023-03-23T20:31:12.357451",
     "status": "completed"
    },
    "tags": []
   },
   "source": [
    "### Definitions"
   ]
  },
  {
   "cell_type": "code",
   "execution_count": 5,
   "id": "39c6f327",
   "metadata": {
    "execution": {
     "iopub.execute_input": "2023-03-23T20:31:12.374443Z",
     "iopub.status.busy": "2023-03-23T20:31:12.373617Z",
     "iopub.status.idle": "2023-03-23T20:31:12.379174Z",
     "shell.execute_reply": "2023-03-23T20:31:12.378262Z"
    },
    "papermill": {
     "duration": 0.013671,
     "end_time": "2023-03-23T20:31:12.381220",
     "exception": false,
     "start_time": "2023-03-23T20:31:12.367549",
     "status": "completed"
    },
    "tags": []
   },
   "outputs": [],
   "source": [
    "model_name = \"Xception\"\n",
    "class_names = ['Healthy', 'Doubtful', 'Minimal', 'Moderate', 'Severe']\n",
    "\n",
    "target_size = (224, 224)\n",
    "epochs = 100\n",
    "batch_size = 256\n",
    "img_shape = (224, 224, 3)\n",
    "\n",
    "# Save model\n",
    "save_model_ft = os.path.join('/kaggle/working/', f'model_{model_name}_ft.hdf5')"
   ]
  },
  {
   "cell_type": "markdown",
   "id": "58281f44",
   "metadata": {
    "papermill": {
     "duration": 0.005064,
     "end_time": "2023-03-23T20:31:12.391354",
     "exception": false,
     "start_time": "2023-03-23T20:31:12.386290",
     "status": "completed"
    },
    "tags": []
   },
   "source": [
    "### Image data generator"
   ]
  },
  {
   "cell_type": "code",
   "execution_count": 6,
   "id": "f441994b",
   "metadata": {
    "execution": {
     "iopub.execute_input": "2023-03-23T20:31:12.402788Z",
     "iopub.status.busy": "2023-03-23T20:31:12.402524Z",
     "iopub.status.idle": "2023-03-23T20:31:12.407959Z",
     "shell.execute_reply": "2023-03-23T20:31:12.406963Z"
    },
    "papermill": {
     "duration": 0.013595,
     "end_time": "2023-03-23T20:31:12.410068",
     "exception": false,
     "start_time": "2023-03-23T20:31:12.396473",
     "status": "completed"
    },
    "tags": []
   },
   "outputs": [],
   "source": [
    "aug_datagen = tf.keras.preprocessing.image.ImageDataGenerator(\n",
    "    preprocessing_function=tf.keras.applications.xception.preprocess_input,\n",
    "    horizontal_flip=True,\n",
    "    brightness_range=[0.3, 0.8],\n",
    "    width_shift_range=[-50, 0, 50, 30, -30],\n",
    "    zoom_range=0.1,\n",
    "    fill_mode=\"nearest\",\n",
    ")\n",
    "\n",
    "noaug_datagen = tf.keras.preprocessing.image.ImageDataGenerator(\n",
    "    preprocessing_function=tf.keras.applications.xception.preprocess_input,\n",
    ")"
   ]
  },
  {
   "cell_type": "code",
   "execution_count": 7,
   "id": "6ec1f8d0",
   "metadata": {
    "execution": {
     "iopub.execute_input": "2023-03-23T20:31:12.421905Z",
     "iopub.status.busy": "2023-03-23T20:31:12.421095Z",
     "iopub.status.idle": "2023-03-23T20:31:14.136719Z",
     "shell.execute_reply": "2023-03-23T20:31:14.135627Z"
    },
    "papermill": {
     "duration": 1.724409,
     "end_time": "2023-03-23T20:31:14.139524",
     "exception": false,
     "start_time": "2023-03-23T20:31:12.415115",
     "status": "completed"
    },
    "tags": []
   },
   "outputs": [
    {
     "name": "stdout",
     "output_type": "stream",
     "text": [
      "Found 5778 images belonging to 5 classes.\n",
      "Found 826 images belonging to 5 classes.\n"
     ]
    }
   ],
   "source": [
    "train_generator = aug_datagen.flow_from_directory(\n",
    "    train_path, class_mode=\"categorical\", target_size=target_size, shuffle=True\n",
    ")\n",
    "\n",
    "valid_generator = noaug_datagen.flow_from_directory(\n",
    "    valid_path,\n",
    "    class_mode=\"categorical\",\n",
    "    target_size=target_size,\n",
    "    shuffle=False,\n",
    ")"
   ]
  },
  {
   "cell_type": "code",
   "execution_count": 8,
   "id": "e2515b73",
   "metadata": {
    "execution": {
     "iopub.execute_input": "2023-03-23T20:31:14.157198Z",
     "iopub.status.busy": "2023-03-23T20:31:14.156855Z",
     "iopub.status.idle": "2023-03-23T20:31:14.161781Z",
     "shell.execute_reply": "2023-03-23T20:31:14.160632Z"
    },
    "papermill": {
     "duration": 0.017385,
     "end_time": "2023-03-23T20:31:14.165497",
     "exception": false,
     "start_time": "2023-03-23T20:31:14.148112",
     "status": "completed"
    },
    "tags": []
   },
   "outputs": [],
   "source": [
    "y_train = train_generator.labels\n",
    "y_val = valid_generator.labels"
   ]
  },
  {
   "cell_type": "markdown",
   "id": "a8da9fdb",
   "metadata": {
    "papermill": {
     "duration": 0.007604,
     "end_time": "2023-03-23T20:31:14.181481",
     "exception": false,
     "start_time": "2023-03-23T20:31:14.173877",
     "status": "completed"
    },
    "tags": []
   },
   "source": [
    "### Weight data"
   ]
  },
  {
   "cell_type": "code",
   "execution_count": 9,
   "id": "522cf698",
   "metadata": {
    "execution": {
     "iopub.execute_input": "2023-03-23T20:31:14.198140Z",
     "iopub.status.busy": "2023-03-23T20:31:14.197812Z",
     "iopub.status.idle": "2023-03-23T20:31:14.209291Z",
     "shell.execute_reply": "2023-03-23T20:31:14.207917Z"
    },
    "papermill": {
     "duration": 0.022815,
     "end_time": "2023-03-23T20:31:14.211704",
     "exception": false,
     "start_time": "2023-03-23T20:31:14.188889",
     "status": "completed"
    },
    "tags": []
   },
   "outputs": [
    {
     "name": "stdout",
     "output_type": "stream",
     "text": [
      "Train:  {0: 2286, 1: 1046, 2: 1516, 3: 757, 4: 173}\n",
      "{0: 0.5055118110236221, 1: 1.1047801147227534, 2: 0.7622691292875989, 3: 1.5265521796565389, 4: 6.679768786127168}\n"
     ]
    }
   ],
   "source": [
    "unique, counts = np.unique(y_train, return_counts=True)\n",
    "print(\"Train: \", dict(zip(unique, counts)))\n",
    "\n",
    "class_weights = compute_class_weight(\n",
    "    class_weight=\"balanced\", classes=np.unique(y_train), y=y_train\n",
    ")\n",
    "train_class_weights = dict(enumerate(class_weights))\n",
    "print(train_class_weights)"
   ]
  },
  {
   "cell_type": "markdown",
   "id": "1cbb0f04",
   "metadata": {
    "papermill": {
     "duration": 0.007452,
     "end_time": "2023-03-23T20:31:14.227022",
     "exception": false,
     "start_time": "2023-03-23T20:31:14.219570",
     "status": "completed"
    },
    "tags": []
   },
   "source": [
    "### Train data"
   ]
  },
  {
   "cell_type": "code",
   "execution_count": 10,
   "id": "31f8b326",
   "metadata": {
    "execution": {
     "iopub.execute_input": "2023-03-23T20:31:14.243363Z",
     "iopub.status.busy": "2023-03-23T20:31:14.243042Z",
     "iopub.status.idle": "2023-03-23T20:31:14.249342Z",
     "shell.execute_reply": "2023-03-23T20:31:14.248489Z"
    },
    "papermill": {
     "duration": 0.016663,
     "end_time": "2023-03-23T20:31:14.251282",
     "exception": false,
     "start_time": "2023-03-23T20:31:14.234619",
     "status": "completed"
    },
    "tags": []
   },
   "outputs": [],
   "source": [
    "classes = np.unique(y_train)\n",
    "\n",
    "# Callbacks\n",
    "early = tf.keras.callbacks.EarlyStopping(\n",
    "            monitor='val_loss', min_delta=0.01, patience=8,\n",
    "            restore_best_weights=True\n",
    "        )\n",
    "plateau = tf.keras.callbacks.ReduceLROnPlateau(\n",
    "                monitor='loss', factor=0.1, min_delta=0.01, \n",
    "                min_lr=1e-10, patience=4, mode='auto'\n",
    "            )"
   ]
  },
  {
   "cell_type": "code",
   "execution_count": 11,
   "id": "35e111c8",
   "metadata": {
    "execution": {
     "iopub.execute_input": "2023-03-23T20:31:14.267286Z",
     "iopub.status.busy": "2023-03-23T20:31:14.266964Z",
     "iopub.status.idle": "2023-03-23T20:31:19.206221Z",
     "shell.execute_reply": "2023-03-23T20:31:19.205173Z"
    },
    "papermill": {
     "duration": 4.950321,
     "end_time": "2023-03-23T20:31:19.208809",
     "exception": false,
     "start_time": "2023-03-23T20:31:14.258488",
     "status": "completed"
    },
    "tags": []
   },
   "outputs": [
    {
     "name": "stdout",
     "output_type": "stream",
     "text": [
      "Downloading data from https://storage.googleapis.com/tensorflow/keras-applications/xception/xception_weights_tf_dim_ordering_tf_kernels_notop.h5\n",
      "83683744/83683744 [==============================] - 0s 0us/step\n"
     ]
    }
   ],
   "source": [
    "model = tf.keras.applications.xception.Xception(\n",
    "    input_shape=(img_shape),\n",
    "    include_top=False,\n",
    "    weights=\"imagenet\",\n",
    ")"
   ]
  },
  {
   "cell_type": "markdown",
   "id": "2a47e52f",
   "metadata": {
    "papermill": {
     "duration": 0.005859,
     "end_time": "2023-03-23T20:31:19.220897",
     "exception": false,
     "start_time": "2023-03-23T20:31:19.215038",
     "status": "completed"
    },
    "tags": []
   },
   "source": [
    "### Fine-tuning"
   ]
  },
  {
   "cell_type": "code",
   "execution_count": 12,
   "id": "992dabfa",
   "metadata": {
    "execution": {
     "iopub.execute_input": "2023-03-23T20:31:19.234626Z",
     "iopub.status.busy": "2023-03-23T20:31:19.233617Z",
     "iopub.status.idle": "2023-03-23T20:31:19.665566Z",
     "shell.execute_reply": "2023-03-23T20:31:19.664382Z"
    },
    "papermill": {
     "duration": 0.443243,
     "end_time": "2023-03-23T20:31:19.669947",
     "exception": false,
     "start_time": "2023-03-23T20:31:19.226704",
     "status": "completed"
    },
    "tags": []
   },
   "outputs": [
    {
     "name": "stdout",
     "output_type": "stream",
     "text": [
      "Model: \"sequential\"\n",
      "_________________________________________________________________\n",
      " Layer (type)                Output Shape              Param #   \n",
      "=================================================================\n",
      " xception (Functional)       (None, 7, 7, 2048)        20861480  \n",
      "                                                                 \n",
      " global_average_pooling2d (G  (None, 2048)             0         \n",
      " lobalAveragePooling2D)                                          \n",
      "                                                                 \n",
      " dropout (Dropout)           (None, 2048)              0         \n",
      "                                                                 \n",
      " dense (Dense)               (None, 5)                 10245     \n",
      "                                                                 \n",
      "=================================================================\n",
      "Total params: 20,871,725\n",
      "Trainable params: 20,817,197\n",
      "Non-trainable params: 54,528\n",
      "_________________________________________________________________\n"
     ]
    }
   ],
   "source": [
    "for layer in model.layers:\n",
    "    layer.trainable = True\n",
    "\n",
    "model_ft = tf.keras.models.Sequential(\n",
    "    [\n",
    "        model,\n",
    "        tf.keras.layers.GlobalAveragePooling2D(),\n",
    "        tf.keras.layers.Dropout(0.2),\n",
    "        tf.keras.layers.Dense(5, activation=\"softmax\"),\n",
    "    ]\n",
    ")\n",
    "\n",
    "model_ft.summary()"
   ]
  },
  {
   "cell_type": "code",
   "execution_count": 13,
   "id": "6a1d3163",
   "metadata": {
    "execution": {
     "iopub.execute_input": "2023-03-23T20:31:19.685581Z",
     "iopub.status.busy": "2023-03-23T20:31:19.684849Z",
     "iopub.status.idle": "2023-03-23T20:57:47.566625Z",
     "shell.execute_reply": "2023-03-23T20:57:47.565556Z"
    },
    "papermill": {
     "duration": 1588.029811,
     "end_time": "2023-03-23T20:57:47.706691",
     "exception": false,
     "start_time": "2023-03-23T20:31:19.676880",
     "status": "completed"
    },
    "tags": []
   },
   "outputs": [
    {
     "name": "stdout",
     "output_type": "stream",
     "text": [
      "Epoch 1/100\n",
      "181/181 [==============================] - 143s 616ms/step - loss: 1.2533 - accuracy: 0.3998 - val_loss: 5.7137 - val_accuracy: 0.4274 - lr: 0.0010\n",
      "Epoch 2/100\n",
      "181/181 [==============================] - 97s 537ms/step - loss: 0.9664 - accuracy: 0.5005 - val_loss: 2.0296 - val_accuracy: 0.4528 - lr: 0.0010\n",
      "Epoch 3/100\n",
      "181/181 [==============================] - 91s 500ms/step - loss: 0.8908 - accuracy: 0.5389 - val_loss: 1.2187 - val_accuracy: 0.5206 - lr: 0.0010\n",
      "Epoch 4/100\n",
      "181/181 [==============================] - 100s 549ms/step - loss: 0.8374 - accuracy: 0.5665 - val_loss: 1.5725 - val_accuracy: 0.4770 - lr: 0.0010\n",
      "Epoch 5/100\n",
      "181/181 [==============================] - 94s 517ms/step - loss: 0.7810 - accuracy: 0.5935 - val_loss: 1.1566 - val_accuracy: 0.5242 - lr: 0.0010\n",
      "Epoch 6/100\n",
      "181/181 [==============================] - 92s 505ms/step - loss: 0.7412 - accuracy: 0.6149 - val_loss: 1.0321 - val_accuracy: 0.5654 - lr: 0.0010\n",
      "Epoch 7/100\n",
      "181/181 [==============================] - 92s 505ms/step - loss: 0.7444 - accuracy: 0.6085 - val_loss: 1.5186 - val_accuracy: 0.4443 - lr: 0.0010\n",
      "Epoch 8/100\n",
      "181/181 [==============================] - 90s 495ms/step - loss: 0.7275 - accuracy: 0.6184 - val_loss: 1.1304 - val_accuracy: 0.5412 - lr: 0.0010\n",
      "Epoch 9/100\n",
      "181/181 [==============================] - 91s 503ms/step - loss: 0.7121 - accuracy: 0.6258 - val_loss: 2.0667 - val_accuracy: 0.3898 - lr: 0.0010\n",
      "Epoch 10/100\n",
      "181/181 [==============================] - 93s 509ms/step - loss: 0.6798 - accuracy: 0.6464 - val_loss: 1.2342 - val_accuracy: 0.5630 - lr: 0.0010\n",
      "Epoch 11/100\n",
      "181/181 [==============================] - 91s 502ms/step - loss: 0.6676 - accuracy: 0.6511 - val_loss: 1.6174 - val_accuracy: 0.4031 - lr: 0.0010\n",
      "Epoch 12/100\n",
      "181/181 [==============================] - 93s 512ms/step - loss: 0.6532 - accuracy: 0.6561 - val_loss: 1.2963 - val_accuracy: 0.4128 - lr: 0.0010\n",
      "Epoch 13/100\n",
      "181/181 [==============================] - 91s 503ms/step - loss: 0.6234 - accuracy: 0.6622 - val_loss: 1.9965 - val_accuracy: 0.4031 - lr: 0.0010\n",
      "Epoch 14/100\n",
      "181/181 [==============================] - 92s 507ms/step - loss: 0.6495 - accuracy: 0.6561 - val_loss: 1.7520 - val_accuracy: 0.4358 - lr: 0.0010\n"
     ]
    }
   ],
   "source": [
    "model_ft.compile(\n",
    "    optimizer=\"adam\", loss=\"categorical_crossentropy\", metrics=[\"accuracy\"]\n",
    ")\n",
    "\n",
    "start_ft = timeit.default_timer()\n",
    "\n",
    "history = model_ft.fit(\n",
    "    train_generator,\n",
    "    epochs=epochs,\n",
    "    batch_size=batch_size,\n",
    "    callbacks=[early, plateau],\n",
    "    validation_data=valid_generator,\n",
    "    class_weight=train_class_weights,\n",
    "    verbose=1,\n",
    ")\n",
    "\n",
    "stop_ft = timeit.default_timer()"
   ]
  },
  {
   "cell_type": "code",
   "execution_count": 14,
   "id": "1500663d",
   "metadata": {
    "execution": {
     "iopub.execute_input": "2023-03-23T20:57:47.989343Z",
     "iopub.status.busy": "2023-03-23T20:57:47.988978Z",
     "iopub.status.idle": "2023-03-23T20:57:47.994767Z",
     "shell.execute_reply": "2023-03-23T20:57:47.993734Z"
    },
    "papermill": {
     "duration": 0.152365,
     "end_time": "2023-03-23T20:57:47.997550",
     "exception": false,
     "start_time": "2023-03-23T20:57:47.845185",
     "status": "completed"
    },
    "tags": []
   },
   "outputs": [
    {
     "name": "stdout",
     "output_type": "stream",
     "text": [
      "Model Xception fine tuning executed in 26.46 minutes\n"
     ]
    }
   ],
   "source": [
    "execution_time_ft = (stop_ft - start_ft) / 60\n",
    "print(\n",
    "    f\"Model {model_name} fine tuning executed in {execution_time_ft:.2f} minutes\"\n",
    ")"
   ]
  },
  {
   "cell_type": "code",
   "execution_count": 15,
   "id": "59b2e25c",
   "metadata": {
    "execution": {
     "iopub.execute_input": "2023-03-23T20:57:48.304560Z",
     "iopub.status.busy": "2023-03-23T20:57:48.304143Z",
     "iopub.status.idle": "2023-03-23T20:57:49.101937Z",
     "shell.execute_reply": "2023-03-23T20:57:49.100660Z"
    },
    "papermill": {
     "duration": 0.953495,
     "end_time": "2023-03-23T20:57:49.104993",
     "exception": false,
     "start_time": "2023-03-23T20:57:48.151498",
     "status": "completed"
    },
    "tags": []
   },
   "outputs": [],
   "source": [
    "model_ft.save(save_model_ft)"
   ]
  },
  {
   "cell_type": "code",
   "execution_count": 16,
   "id": "8001a919",
   "metadata": {
    "execution": {
     "iopub.execute_input": "2023-03-23T20:57:49.536764Z",
     "iopub.status.busy": "2023-03-23T20:57:49.535855Z",
     "iopub.status.idle": "2023-03-23T20:57:49.921466Z",
     "shell.execute_reply": "2023-03-23T20:57:49.920353Z"
    },
    "papermill": {
     "duration": 0.610905,
     "end_time": "2023-03-23T20:57:49.924047",
     "exception": false,
     "start_time": "2023-03-23T20:57:49.313142",
     "status": "completed"
    },
    "tags": []
   },
   "outputs": [
    {
     "data": {
      "image/png": "[encoded data removed]",
      "text/plain": [
       "<Figure size 640x480 with 2 Axes>"
      ]
     },
     "metadata": {},
     "output_type": "display_data"
    }
   ],
   "source": [
    "get_plot_loss_acc(model_ft, f\"{model_name} Fine Tuning\")"
   ]
  },
  {
   "cell_type": "code",
   "execution_count": 17,
   "id": "436a4b42",
   "metadata": {
    "execution": {
     "iopub.execute_input": "2023-03-23T20:57:50.214066Z",
     "iopub.status.busy": "2023-03-23T20:57:50.213703Z",
     "iopub.status.idle": "2023-03-23T20:57:52.645135Z",
     "shell.execute_reply": "2023-03-23T20:57:52.644145Z"
    },
    "papermill": {
     "duration": 2.582267,
     "end_time": "2023-03-23T20:57:52.647347",
     "exception": false,
     "start_time": "2023-03-23T20:57:50.065080",
     "status": "completed"
    },
    "tags": []
   },
   "outputs": [
    {
     "name": "stdout",
     "output_type": "stream",
     "text": [
      "26/26 [==============================] - 2s 85ms/step - loss: 1.0321 - accuracy: 0.5654\n",
      "Valid loss: 1.03\n",
      "Valid accuracy: 0.57\n"
     ]
    }
   ],
   "source": [
    "get_evaluate(valid_generator, \"Valid\", model_ft)"
   ]
  },
  {
   "cell_type": "code",
   "execution_count": 18,
   "id": "0d0e3d42",
   "metadata": {
    "execution": {
     "iopub.execute_input": "2023-03-23T20:57:52.935639Z",
     "iopub.status.busy": "2023-03-23T20:57:52.934882Z",
     "iopub.status.idle": "2023-03-23T20:57:56.491017Z",
     "shell.execute_reply": "2023-03-23T20:57:56.489597Z"
    },
    "papermill": {
     "duration": 3.703574,
     "end_time": "2023-03-23T20:57:56.493203",
     "exception": false,
     "start_time": "2023-03-23T20:57:52.789629",
     "status": "completed"
    },
    "tags": []
   },
   "outputs": [
    {
     "name": "stdout",
     "output_type": "stream",
     "text": [
      "26/26 [==============================] - 3s 102ms/step\n",
      "Accuracy Score - Xception: 0.57\n",
      "Balanced Accuracy Score - Xception: 0.62\n",
      "\n",
      "\n",
      "              precision    recall  f1-score   support\n",
      "\n",
      "           0       0.72      0.67      0.70       328\n",
      "           1       0.26      0.25      0.26       153\n",
      "           2       0.58      0.46      0.52       212\n",
      "           3       0.50      0.82      0.62       106\n",
      "           4       0.73      0.89      0.80        27\n",
      "\n",
      "    accuracy                           0.57       826\n",
      "   macro avg       0.56      0.62      0.58       826\n",
      "weighted avg       0.57      0.57      0.56       826\n",
      "\n"
     ]
    }
   ],
   "source": [
    "predict_model_ft = get_predict(valid_generator, model_ft)\n",
    "\n",
    "get_metrics(\n",
    "    valid_generator.labels,\n",
    "    y_pred=np.argmax(predict_model_ft, axis=1),\n",
    "    model_name=model_name,\n",
    ")"
   ]
  },
  {
   "cell_type": "code",
   "execution_count": 19,
   "id": "23974b24",
   "metadata": {
    "execution": {
     "iopub.execute_input": "2023-03-23T20:57:56.781867Z",
     "iopub.status.busy": "2023-03-23T20:57:56.780853Z",
     "iopub.status.idle": "2023-03-23T20:57:57.083354Z",
     "shell.execute_reply": "2023-03-23T20:57:57.082399Z"
    },
    "papermill": {
     "duration": 0.449434,
     "end_time": "2023-03-23T20:57:57.085564",
     "exception": false,
     "start_time": "2023-03-23T20:57:56.636130",
     "status": "completed"
    },
    "tags": []
   },
   "outputs": [
    {
     "data": {
      "image/png": "[encoded data removed]",
      "text/plain": [
       "<Figure size 600x500 with 2 Axes>"
      ]
     },
     "metadata": {},
     "output_type": "display_data"
    }
   ],
   "source": [
    "compute_confusion_matrix(\n",
    "    valid_generator, predict_model_ft, class_names, f\"{model_name} Fine Tuning\"\n",
    ")"
   ]
  }
 ],
 "metadata": {
  "kernelspec": {
   "display_name": "Python 3",
   "language": "python",
   "name": "python3"
  },
  "language_info": {
   "codemirror_mode": {
    "name": "ipython",
    "version": 3
   },
   "file_extension": ".py",
   "mimetype": "text/x-python",
   "name": "python",
   "nbconvert_exporter": "python",
   "pygments_lexer": "ipython3",
   "version": "3.7.12"
  },
  "papermill": {
   "default_parameters": {},
   "duration": 1626.658678,
   "end_time": "2023-03-23T20:58:01.008494",
   "environment_variables": {},
   "exception": null,
   "input_path": "__notebook__.ipynb",
   "output_path": "__notebook__.ipynb",
   "parameters": {},
   "start_time": "2023-03-23T20:30:54.349816",
   "version": "2.4.0"
  }
 },
 "nbformat": 4,
 "nbformat_minor": 5
}
